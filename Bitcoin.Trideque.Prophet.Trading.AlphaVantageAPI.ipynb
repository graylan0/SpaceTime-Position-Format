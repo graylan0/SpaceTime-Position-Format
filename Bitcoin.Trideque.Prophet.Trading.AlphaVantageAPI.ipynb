{
  "nbformat": 4,
  "nbformat_minor": 0,
  "metadata": {
    "colab": {
      "provenance": [],
      "authorship_tag": "ABX9TyMAR8gxTkCYTgCzFGpVucVw",
      "include_colab_link": true
    },
    "kernelspec": {
      "name": "python3",
      "display_name": "Python 3"
    },
    "language_info": {
      "name": "python"
    }
  },
  "cells": [
    {
      "cell_type": "markdown",
      "metadata": {
        "id": "view-in-github",
        "colab_type": "text"
      },
      "source": [
        "<a href=\"https://colab.research.google.com/github/graylan0/SpaceTime-Position-Format/blob/main/Bitcoin.Trideque.Prophet.Trading.AlphaVantageAPI.ipynb\" target=\"_parent\"><img src=\"https://colab.research.google.com/assets/colab-badge.svg\" alt=\"Open In Colab\"/></a>"
      ]
    },
    {
      "cell_type": "code",
      "execution_count": null,
      "metadata": {
        "id": "B2s8J8Q33w_D"
      },
      "outputs": [],
      "source": [
        "!pip install numpy \n",
        "!pip install requests\n",
        "!pip install scikit-learn\n",
        "!pip install prophet"
      ]
    },
    {
      "cell_type": "code",
      "source": [
        "\n",
        "import requests\n",
        "import json\n",
        "import numpy as np\n",
        "import pandas as pd\n",
        "from datetime import datetime, timedelta\n",
        "from prophet import Prophet\n",
        "\n",
        "\n",
        "# Function to retrieve historical Bitcoin price data from Alpha Vantage\n",
        "def get_historical_data():\n",
        "    api_key = 'APICODEHERE'\n",
        "    url = f'https://www.alphavantage.co/query?function=DIGITAL_CURRENCY_DAILY&symbol=BTC&market=USD&apikey={api_key}'\n",
        "    response = requests.get(url)\n",
        "    data = response.json()\n",
        "    historical_data = {}\n",
        "\n",
        "    for date, entry in data['Time Series (Digital Currency Daily)'].items():\n",
        "        timestamp = datetime.strptime(date, '%Y-%m-%d')\n",
        "        price_usd = float(entry['4a. close (USD)'])\n",
        "        historical_data[timestamp] = price_usd\n",
        "    return historical_data\n",
        "\n",
        "# Rest of the code remains the same\n",
        "# Function to convert the historical data to a feature matrix and target vector\n",
        "def historical_data_to_dataframe(historical_data):\n",
        "    timestamps = sorted(list(historical_data.keys()))\n",
        "    prices = [historical_data[timestamp] for timestamp in timestamps]\n",
        "    data = {'ds': timestamps, 'y': prices}\n",
        "    return pd.DataFrame(data)\n",
        "\n",
        "def make_prediction(model, latest_data, days_into_future):\n",
        "    future = model.make_future_dataframe(periods=days_into_future)\n",
        "    forecast = model.predict(future)\n",
        "    prediction = forecast.tail(days_into_future)['yhat'].values\n",
        "    return prediction\n",
        "\n",
        "def main():\n",
        "    # Get historical Bitcoin price data from CoinMarketCap\n",
        "    historical_data = get_historical_data()\n",
        "\n",
        "    # Convert the historical data to a DataFrame\n",
        "    df = historical_data_to_dataframe(historical_data)\n",
        "\n",
        "    # Train a Prophet model on the DataFrame\n",
        "    model = Prophet()\n",
        "    model.fit(df)\n",
        "\n",
        "    # Use the model to make predictions\n",
        "    days_into_future_tomorrow = 1\n",
        "    days_into_future_next_week = 7\n",
        "    days_into_future_next_month = 30\n",
        "    prediction_tomorrow = make_prediction(model, df, days_into_future_tomorrow)\n",
        "    prediction_next_week = make_prediction(model, df, days_into_future_next_week)\n",
        "    prediction_next_month = make_prediction(model, df, days_into_future_next_month)\n",
        "\n",
        "    # Print or process the predictions\n",
        "    print(\"Predicted price for tomorrow:\", prediction_tomorrow[0])\n",
        "    print(\"Predicted price for next week:\", prediction_next_week[-1])\n",
        "    print(\"Predicted price for next month:\", prediction_next_month[-1])\n",
        "\n",
        "if __name__ == '__main__':\n",
        "    main()\n"
      ],
      "metadata": {
        "id": "DJYTVI8p3y1s"
      },
      "execution_count": null,
      "outputs": []
    }
  ]
}